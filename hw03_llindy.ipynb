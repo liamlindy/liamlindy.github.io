{
  "nbformat": 4,
  "nbformat_minor": 0,
  "metadata": {
    "colab": {
      "name": "hw03_llindy.ipynb",
      "provenance": [],
      "collapsed_sections": [],
      "authorship_tag": "ABX9TyMOJ/p0Xw9nUtX20kzKRNlW",
      "include_colab_link": true
    },
    "kernelspec": {
      "name": "python3",
      "display_name": "Python 3"
    }
  },
  "cells": [
    {
      "cell_type": "markdown",
      "metadata": {
        "id": "view-in-github",
        "colab_type": "text"
      },
      "source": [
        "<a href=\"https://colab.research.google.com/github/liamlindy/liamlindy.github.io/blob/master/hw03_llindy.ipynb\" target=\"_parent\"><img src=\"https://colab.research.google.com/assets/colab-badge.svg\" alt=\"Open In Colab\"/></a>"
      ]
    },
    {
      "cell_type": "markdown",
      "metadata": {
        "id": "Erht4Vimzgz0",
        "colab_type": "text"
      },
      "source": [
        "## 1. Setup\n",
        "refer to header and file name \n",
        "\n",
        "## 2. Classification Using Scikit-learn\n",
        "### 2a. Loading and Pre-processing\n",
        "##### Import Statements\n",
        "\n",
        "\n"
      ]
    },
    {
      "cell_type": "markdown",
      "metadata": {
        "id": "lUdP9cLszh56",
        "colab_type": "text"
      },
      "source": [
        "## Liam Lindy\n",
        "\n",
        "---\n",
        "\n",
        "\n",
        "## Homework 3 - Classification\n",
        "## Data Mining and Machine Learning (CSC401)\n",
        "## Dr. Spurlock\n",
        "### April 8, 2020"
      ]
    },
    {
      "cell_type": "code",
      "metadata": {
        "id": "jZAraZFdzdjx",
        "colab_type": "code",
        "colab": {}
      },
      "source": [
        "import numpy as np\n",
        "\n",
        "import pandas as pd\n",
        "\n",
        "import matplotlib.pyplot as plt\n",
        "%matplotlib inline\n",
        "\n",
        "from sklearn.model_selection import train_test_split\n",
        "from sklearn import tree\n",
        "from sklearn.metrics import confusion_matrix\n",
        "\n",
        "import pylab as plt\n",
        "%matplotlib inline\n",
        "\n",
        "import nltk\n",
        "import string\n",
        "\n",
        "from collections import Counter\n",
        "\n",
        "import seaborn as sns\n",
        "import matplotlib.pyplot as plt\n",
        "sns.set(style=\"ticks\", color_codes=True)"
      ],
      "execution_count": 0,
      "outputs": []
    }
  ]
}