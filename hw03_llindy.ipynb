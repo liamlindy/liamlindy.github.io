{
  "nbformat": 4,
  "nbformat_minor": 0,
  "metadata": {
    "kernelspec": {
      "display_name": "Python [conda env:dmml] *",
      "language": "python",
      "name": "conda-env-dmml-py"
    },
    "language_info": {
      "codemirror_mode": {
        "name": "ipython",
        "version": 3
      },
      "file_extension": ".py",
      "mimetype": "text/x-python",
      "name": "python",
      "nbconvert_exporter": "python",
      "pygments_lexer": "ipython3",
      "version": "3.7.6"
    },
    "colab": {
      "name": "hw03_llindy.ipynb",
      "provenance": [],
      "toc_visible": true,
      "include_colab_link": true
    }
  },
  "cells": [
    {
      "cell_type": "markdown",
      "metadata": {
        "id": "view-in-github",
        "colab_type": "text"
      },
      "source": [
        "<a href=\"https://colab.research.google.com/github/liamlindy/liamlindy.github.io/blob/master/hw03_llindy.ipynb\" target=\"_parent\"><img src=\"https://colab.research.google.com/assets/colab-badge.svg\" alt=\"Open In Colab\"/></a>"
      ]
    },
    {
      "cell_type": "markdown",
      "metadata": {
        "id": "913xiWHY96MR",
        "colab_type": "text"
      },
      "source": [
        "## Liam Lindy\n",
        "## Homework 3 - Classification\n",
        "## Data Mining and Machine Learning (CSC401)\n",
        "## Dr. Spurlock\n",
        "### April 8, 2020"
      ]
    },
    {
      "cell_type": "markdown",
      "metadata": {
        "id": "kVFfRzF596MS",
        "colab_type": "text"
      },
      "source": [
        "## 1. Setup\n",
        "refer to header and file name \n",
        "\n",
        "## 2. Classification Using Scikit-learn"
      ]
    },
    {
      "cell_type": "markdown",
      "metadata": {
        "id": "rY55hrbo96MT",
        "colab_type": "text"
      },
      "source": [
        "### 2a. Loading and Pre-processing\n",
        "##### Import Statements"
      ]
    },
    {
      "cell_type": "code",
      "metadata": {
        "id": "aJqq98ty96MT",
        "colab_type": "code",
        "colab": {
          "base_uri": "https://localhost:8080/",
          "height": 122
        },
        "outputId": "08e1e0bb-fd5a-46a3-bc70-29072974833f"
      },
      "source": [
        "import numpy as np\n",
        "\n",
        "import pandas as pd\n",
        "\n",
        "import matplotlib.pyplot as plt\n",
        "%matplotlib inline\n",
        "\n",
        "from sklearn.model_selection import train_test_split\n",
        "from sklearn import tree\n",
        "from sklearn.metrics import confusion_matrix\n",
        "\n",
        "import pylab as plt\n",
        "%matplotlib inline\n",
        "\n",
        "import nltk\n",
        "import string\n",
        "\n",
        "from collections import Counter\n",
        "\n",
        "import seaborn as sns\n",
        "import matplotlib.pyplot as plt\n",
        "sns.set(style=\"ticks\", color_codes=True)\n",
        "\n",
        "from google.colab import drive\n",
        "drive.mount('/content/drive')"
      ],
      "execution_count": 6,
      "outputs": [
        {
          "output_type": "stream",
          "text": [
            "Go to this URL in a browser: https://accounts.google.com/o/oauth2/auth?client_id=947318989803-6bn6qk8qdgf4n4g3pfee6491hc0brc4i.apps.googleusercontent.com&redirect_uri=urn%3aietf%3awg%3aoauth%3a2.0%3aoob&response_type=code&scope=email%20https%3a%2f%2fwww.googleapis.com%2fauth%2fdocs.test%20https%3a%2f%2fwww.googleapis.com%2fauth%2fdrive%20https%3a%2f%2fwww.googleapis.com%2fauth%2fdrive.photos.readonly%20https%3a%2f%2fwww.googleapis.com%2fauth%2fpeopleapi.readonly\n",
            "\n",
            "Enter your authorization code:\n",
            "··········\n",
            "Mounted at /content/drive\n"
          ],
          "name": "stdout"
        }
      ]
    },
    {
      "cell_type": "markdown",
      "metadata": {
        "id": "bnAq1gM-96MW",
        "colab_type": "text"
      },
      "source": [
        "##### Reading Data In"
      ]
    },
    {
      "cell_type": "code",
      "metadata": {
        "id": "Vd7fqts496MX",
        "colab_type": "code",
        "colab": {
          "base_uri": "https://localhost:8080/",
          "height": 204
        },
        "cellView": "code",
        "outputId": "6616ec89-2ca2-42bf-9975-627e193cac76"
      },
      "source": [
        "path = '/content/drive/My Drive/Colab Notebooks/bank_data.csv'\n",
        "\n",
        "data = pd.read_csv(path, sep=',')\n",
        "data.head()"
      ],
      "execution_count": 8,
      "outputs": [
        {
          "output_type": "execute_result",
          "data": {
            "text/html": [
              "<div>\n",
              "<style scoped>\n",
              "    .dataframe tbody tr th:only-of-type {\n",
              "        vertical-align: middle;\n",
              "    }\n",
              "\n",
              "    .dataframe tbody tr th {\n",
              "        vertical-align: top;\n",
              "    }\n",
              "\n",
              "    .dataframe thead th {\n",
              "        text-align: right;\n",
              "    }\n",
              "</style>\n",
              "<table border=\"1\" class=\"dataframe\">\n",
              "  <thead>\n",
              "    <tr style=\"text-align: right;\">\n",
              "      <th></th>\n",
              "      <th>id</th>\n",
              "      <th>age</th>\n",
              "      <th>income</th>\n",
              "      <th>children</th>\n",
              "      <th>gender</th>\n",
              "      <th>region</th>\n",
              "      <th>married</th>\n",
              "      <th>car</th>\n",
              "      <th>savings_acct</th>\n",
              "      <th>current_acct</th>\n",
              "      <th>mortgage</th>\n",
              "      <th>pep</th>\n",
              "    </tr>\n",
              "  </thead>\n",
              "  <tbody>\n",
              "    <tr>\n",
              "      <th>0</th>\n",
              "      <td>ID12101</td>\n",
              "      <td>48</td>\n",
              "      <td>17546.0</td>\n",
              "      <td>1</td>\n",
              "      <td>FEMALE</td>\n",
              "      <td>INNER_CITY</td>\n",
              "      <td>NO</td>\n",
              "      <td>NO</td>\n",
              "      <td>NO</td>\n",
              "      <td>NO</td>\n",
              "      <td>NO</td>\n",
              "      <td>YES</td>\n",
              "    </tr>\n",
              "    <tr>\n",
              "      <th>1</th>\n",
              "      <td>ID12102</td>\n",
              "      <td>40</td>\n",
              "      <td>30085.1</td>\n",
              "      <td>3</td>\n",
              "      <td>MALE</td>\n",
              "      <td>TOWN</td>\n",
              "      <td>YES</td>\n",
              "      <td>YES</td>\n",
              "      <td>NO</td>\n",
              "      <td>YES</td>\n",
              "      <td>YES</td>\n",
              "      <td>NO</td>\n",
              "    </tr>\n",
              "    <tr>\n",
              "      <th>2</th>\n",
              "      <td>ID12103</td>\n",
              "      <td>51</td>\n",
              "      <td>16575.4</td>\n",
              "      <td>0</td>\n",
              "      <td>FEMALE</td>\n",
              "      <td>INNER_CITY</td>\n",
              "      <td>YES</td>\n",
              "      <td>YES</td>\n",
              "      <td>YES</td>\n",
              "      <td>YES</td>\n",
              "      <td>NO</td>\n",
              "      <td>NO</td>\n",
              "    </tr>\n",
              "    <tr>\n",
              "      <th>3</th>\n",
              "      <td>ID12104</td>\n",
              "      <td>23</td>\n",
              "      <td>20375.4</td>\n",
              "      <td>3</td>\n",
              "      <td>FEMALE</td>\n",
              "      <td>TOWN</td>\n",
              "      <td>YES</td>\n",
              "      <td>NO</td>\n",
              "      <td>NO</td>\n",
              "      <td>YES</td>\n",
              "      <td>NO</td>\n",
              "      <td>NO</td>\n",
              "    </tr>\n",
              "    <tr>\n",
              "      <th>4</th>\n",
              "      <td>ID12105</td>\n",
              "      <td>57</td>\n",
              "      <td>50576.3</td>\n",
              "      <td>0</td>\n",
              "      <td>FEMALE</td>\n",
              "      <td>RURAL</td>\n",
              "      <td>YES</td>\n",
              "      <td>NO</td>\n",
              "      <td>YES</td>\n",
              "      <td>NO</td>\n",
              "      <td>NO</td>\n",
              "      <td>NO</td>\n",
              "    </tr>\n",
              "  </tbody>\n",
              "</table>\n",
              "</div>"
            ],
            "text/plain": [
              "        id  age   income  children  ... savings_acct current_acct mortgage  pep\n",
              "0  ID12101   48  17546.0         1  ...           NO           NO       NO  YES\n",
              "1  ID12102   40  30085.1         3  ...           NO          YES      YES   NO\n",
              "2  ID12103   51  16575.4         0  ...          YES          YES       NO   NO\n",
              "3  ID12104   23  20375.4         3  ...           NO          YES       NO   NO\n",
              "4  ID12105   57  50576.3         0  ...          YES           NO       NO   NO\n",
              "\n",
              "[5 rows x 12 columns]"
            ]
          },
          "metadata": {
            "tags": []
          },
          "execution_count": 8
        }
      ]
    },
    {
      "cell_type": "markdown",
      "metadata": {
        "id": "QDF2MuPC96Ma",
        "colab_type": "text"
      },
      "source": [
        "##### Pre-processing"
      ]
    },
    {
      "cell_type": "code",
      "metadata": {
        "id": "JsBb3qD196Mb",
        "colab_type": "code",
        "colab": {}
      },
      "source": [
        "# setting pep as the target\n",
        "target = data['pep']\n",
        "\n",
        "# converting all to numerics\n",
        "# renamed to df to keep `data` alive that includes pep\n",
        "df = pd.get_dummies(data[['age','income','children','gender','region','married','car','savings_acct','mortgage']])\n",
        "\n",
        "# standardizing income\n",
        "# do min-max normalization\n",
        "norm_df = (df - df.mean())/df.std()\n",
        "print(norm_df)\n",
        "\n",
        "\n",
        "# confirming that all are numerics\n",
        "print(df.dtypes)\n",
        "\n",
        "# TODO need to randomize the IDs \n",
        "#df = data.reindex(np.random.permutation(data['age']))\n",
        "\n",
        "# showing a few rows of the df\n",
        "df.head()"
      ],
      "execution_count": 0,
      "outputs": []
    },
    {
      "cell_type": "markdown",
      "metadata": {
        "id": "E1j6G47r96Md",
        "colab_type": "text"
      },
      "source": [
        "##### Creating Training and Test Sets"
      ]
    },
    {
      "cell_type": "code",
      "metadata": {
        "id": "78bEC7Yo96Me",
        "colab_type": "code",
        "colab": {}
      },
      "source": [
        "# setting the training percent and size\n",
        "tpercent = 0.8\n",
        "\n",
        "# defining the training and test sets with scikit-learn\n",
        "data_train, data_test, target_train, target_test = train_test_split(df, target, test_size=tpercent, random_state=58)\n",
        "\n",
        "# confirming our results \n",
        "print(data_train.shape)\n",
        "print(data_test.shape)"
      ],
      "execution_count": 0,
      "outputs": []
    },
    {
      "cell_type": "markdown",
      "metadata": {
        "id": "IsRNb7PC96Mg",
        "colab_type": "text"
      },
      "source": [
        "### 2b. Use Scikit-learn's KNN Classifier"
      ]
    },
    {
      "cell_type": "markdown",
      "metadata": {
        "id": "zWyVbxl496Mh",
        "colab_type": "text"
      },
      "source": [
        "##### Creating the KNN"
      ]
    },
    {
      "cell_type": "code",
      "metadata": {
        "id": "wLD81LKg96Mh",
        "colab_type": "code",
        "colab": {}
      },
      "source": [
        "\n",
        "# day nine tutorial: https://drive.google.com/file/d/1R8X6NJUzXWnZbGRiHKXT54xup47JkvV5/view\n",
        "# creating and viewing the Confusion Matrix\n",
        "\n",
        "# all the sklearn classififers work very similarly \n",
        "# will be very similar to the decision tree lab \n",
        "\n",
        "# look at the grading comments from last year \n",
        "\n",
        "\n",
        "sklearn.neighbors.KNeighborsClassifier"
      ],
      "execution_count": 0,
      "outputs": []
    }
  ]
}